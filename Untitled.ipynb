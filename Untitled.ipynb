{
 "cells": [
  {
   "cell_type": "code",
   "execution_count": 14,
   "id": "4cb1c1b6",
   "metadata": {},
   "outputs": [
    {
     "name": "stdout",
     "output_type": "stream",
     "text": [
      "Answer is: 3\n"
     ]
    }
   ],
   "source": [
    "import collections\n",
    "X = [4,3,3,9,4,3,2,1]\n",
    "Y = 2\n",
    "ans = None\n",
    "\n",
    "# initializing dict to store frequency of each element\n",
    "elements_count = collections.Counter(X)\n",
    "\n",
    "frequency = list(elements_count.values())\n",
    "frequency.sort(reverse=True)\n",
    "ans = len(X)-sum(frequency[:Y])\n",
    "print(\"Answer is:\",ans)"
   ]
  },
  {
   "cell_type": "code",
   "execution_count": null,
   "id": "731744c7",
   "metadata": {},
   "outputs": [],
   "source": []
  }
 ],
 "metadata": {
  "kernelspec": {
   "display_name": "Python 3 (ipykernel)",
   "language": "python",
   "name": "python3"
  },
  "language_info": {
   "codemirror_mode": {
    "name": "ipython",
    "version": 3
   },
   "file_extension": ".py",
   "mimetype": "text/x-python",
   "name": "python",
   "nbconvert_exporter": "python",
   "pygments_lexer": "ipython3",
   "version": "3.9.7"
  }
 },
 "nbformat": 4,
 "nbformat_minor": 5
}
